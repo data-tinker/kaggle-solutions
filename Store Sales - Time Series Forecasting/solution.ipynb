{
 "metadata": {
  "kernelspec": {
   "language": "python",
   "display_name": "Python 3",
   "name": "python3"
  },
  "language_info": {
   "name": "python",
   "version": "3.10.13",
   "mimetype": "text/x-python",
   "codemirror_mode": {
    "name": "ipython",
    "version": 3
   },
   "pygments_lexer": "ipython3",
   "nbconvert_exporter": "python",
   "file_extension": ".py"
  },
  "kaggle": {
   "accelerator": "none",
   "dataSources": [
    {
     "sourceId": 29781,
     "databundleVersionId": 2887556,
     "sourceType": "competition"
    }
   ],
   "dockerImageVersionId": 30673,
   "isInternetEnabled": true,
   "language": "python",
   "sourceType": "notebook",
   "isGpuEnabled": false
  }
 },
 "nbformat_minor": 4,
 "nbformat": 4,
 "cells": [
  {
   "cell_type": "code",
   "source": [
    "# This Python 3 environment comes with many helpful analytics libraries installed\n",
    "# It is defined by the kaggle/python Docker image: https://github.com/kaggle/docker-python\n",
    "# For example, here's several helpful packages to load\n",
    "\n",
    "import numpy as np # linear algebra\n",
    "import pandas as pd # data processing, CSV file I/O (e.g. pd.read_csv)\n",
    "import seaborn as sns\n",
    "import matplotlib.pyplot as plt\n",
    "from sklearn.metrics import mean_absolute_percentage_error\n",
    "import itertools\n",
    "import math\n",
    "import re\n",
    "import lightgbm as lgb\n",
    "\n",
    "# Input data files are available in the read-only \"../input/\" directory\n",
    "# For example, running this (by clicking run or pressing Shift+Enter) will list all files under the input directory\n",
    "\n",
    "import os\n",
    "for dirname, _, filenames in os.walk('/kaggle/input'):\n",
    "    for filename in filenames:\n",
    "        print(os.path.join(dirname, filename))\n",
    "\n",
    "# You can write up to 20GB to the current directory (/kaggle/working/) that gets preserved as output when you create a version using \"Save & Run All\" \n",
    "# You can also write temporary files to /kaggle/temp/, but they won't be saved outside of the current session"
   ],
   "metadata": {
    "execution": {
     "iopub.status.busy": "2024-03-24T00:59:43.616398Z",
     "iopub.execute_input": "2024-03-24T00:59:43.617481Z",
     "iopub.status.idle": "2024-03-24T00:59:43.627225Z",
     "shell.execute_reply.started": "2024-03-24T00:59:43.617435Z",
     "shell.execute_reply": "2024-03-24T00:59:43.626007Z"
    },
    "trusted": true
   },
   "execution_count": 124,
   "outputs": [
    {
     "name": "stdout",
     "text": "/kaggle/input/store-sales-time-series-forecasting/oil.csv\n/kaggle/input/store-sales-time-series-forecasting/sample_submission.csv\n/kaggle/input/store-sales-time-series-forecasting/holidays_events.csv\n/kaggle/input/store-sales-time-series-forecasting/stores.csv\n/kaggle/input/store-sales-time-series-forecasting/train.csv\n/kaggle/input/store-sales-time-series-forecasting/test.csv\n/kaggle/input/store-sales-time-series-forecasting/transactions.csv\n",
     "output_type": "stream"
    }
   ]
  },
  {
   "cell_type": "code",
   "source": [
    "train = pd.read_csv(\"/kaggle/input/store-sales-time-series-forecasting/train.csv\")\n",
    "test = pd.read_csv(\"/kaggle/input/store-sales-time-series-forecasting/test.csv\")\n",
    "oil = pd.read_csv(\"/kaggle/input/store-sales-time-series-forecasting/oil.csv\")\n",
    "stores = pd.read_csv(\"/kaggle/input/store-sales-time-series-forecasting/stores.csv\")\n",
    "transactions = pd.read_csv(\"/kaggle/input/store-sales-time-series-forecasting/transactions.csv\")\n",
    "holidays = pd.read_csv(\"/kaggle/input/store-sales-time-series-forecasting/holidays_events.csv\")"
   ],
   "metadata": {
    "execution": {
     "iopub.status.busy": "2024-03-24T00:59:43.629673Z",
     "iopub.execute_input": "2024-03-24T00:59:43.630269Z",
     "iopub.status.idle": "2024-03-24T00:59:46.194859Z",
     "shell.execute_reply.started": "2024-03-24T00:59:43.630229Z",
     "shell.execute_reply": "2024-03-24T00:59:46.193917Z"
    },
    "trusted": true
   },
   "execution_count": 125,
   "outputs": []
  },
  {
   "cell_type": "code",
   "source": [
    "train['test'] = 0\n",
    "test['test'] = 1\n",
    "\n",
    "data = pd.concat([train, test], axis=0)"
   ],
   "metadata": {
    "execution": {
     "iopub.status.busy": "2024-03-24T00:59:46.196131Z",
     "iopub.execute_input": "2024-03-24T00:59:46.196458Z",
     "iopub.status.idle": "2024-03-24T00:59:46.264646Z",
     "shell.execute_reply.started": "2024-03-24T00:59:46.196432Z",
     "shell.execute_reply": "2024-03-24T00:59:46.263402Z"
    },
    "trusted": true
   },
   "execution_count": 126,
   "outputs": []
  },
  {
   "cell_type": "code",
   "source": [
    "data = data.merge(holidays, on='date', how='left')\n",
    "data= data.merge(stores, on='store_nbr', how='left')\n",
    "data= data.merge(oil, on='date', how='left')\n",
    "data= data.merge(transactions, on=['date', 'store_nbr'], how='left')\n",
    "data = data.set_index(['store_nbr', 'date', 'family'])\n",
    "data = data.drop(index='2013-01-01', level=1)\n",
    "data"
   ],
   "metadata": {
    "execution": {
     "iopub.status.busy": "2024-03-24T00:59:46.268416Z",
     "iopub.execute_input": "2024-03-24T00:59:46.269200Z",
     "iopub.status.idle": "2024-03-24T00:59:56.234764Z",
     "shell.execute_reply.started": "2024-03-24T00:59:46.269155Z",
     "shell.execute_reply": "2024-03-24T00:59:56.233630Z"
    },
    "trusted": true
   },
   "execution_count": 127,
   "outputs": [
    {
     "execution_count": 127,
     "output_type": "execute_result",
     "data": {
      "text/plain": "                                                      id   sales  onpromotion  \\\nstore_nbr date       family                                                     \n1         2013-01-02 AUTOMOTIVE                     1782     2.0            0   \n                     BABY CARE                      1783     0.0            0   \n                     BEAUTY                         1784     2.0            0   \n                     BEVERAGES                      1785  1091.0            0   \n                     BOOKS                          1786     0.0            0   \n...                                                  ...     ...          ...   \n9         2017-08-31 POULTRY                     3029395     NaN            1   \n                     PREPARED FOODS              3029396     NaN            0   \n                     PRODUCE                     3029397     NaN            1   \n                     SCHOOL AND OFFICE SUPPLIES  3029398     NaN            9   \n                     SEAFOOD                     3029399     NaN            0   \n\n                                                 test type_x locale  \\\nstore_nbr date       family                                           \n1         2013-01-02 AUTOMOTIVE                     0    NaN    NaN   \n                     BABY CARE                      0    NaN    NaN   \n                     BEAUTY                         0    NaN    NaN   \n                     BEVERAGES                      0    NaN    NaN   \n                     BOOKS                          0    NaN    NaN   \n...                                               ...    ...    ...   \n9         2017-08-31 POULTRY                        1    NaN    NaN   \n                     PREPARED FOODS                 1    NaN    NaN   \n                     PRODUCE                        1    NaN    NaN   \n                     SCHOOL AND OFFICE SUPPLIES     1    NaN    NaN   \n                     SEAFOOD                        1    NaN    NaN   \n\n                                                locale_name description  \\\nstore_nbr date       family                                               \n1         2013-01-02 AUTOMOTIVE                         NaN         NaN   \n                     BABY CARE                          NaN         NaN   \n                     BEAUTY                             NaN         NaN   \n                     BEVERAGES                          NaN         NaN   \n                     BOOKS                              NaN         NaN   \n...                                                     ...         ...   \n9         2017-08-31 POULTRY                            NaN         NaN   \n                     PREPARED FOODS                     NaN         NaN   \n                     PRODUCE                            NaN         NaN   \n                     SCHOOL AND OFFICE SUPPLIES         NaN         NaN   \n                     SEAFOOD                            NaN         NaN   \n\n                                                transferred   city      state  \\\nstore_nbr date       family                                                     \n1         2013-01-02 AUTOMOTIVE                         NaN  Quito  Pichincha   \n                     BABY CARE                          NaN  Quito  Pichincha   \n                     BEAUTY                             NaN  Quito  Pichincha   \n                     BEVERAGES                          NaN  Quito  Pichincha   \n                     BOOKS                              NaN  Quito  Pichincha   \n...                                                     ...    ...        ...   \n9         2017-08-31 POULTRY                            NaN  Quito  Pichincha   \n                     PREPARED FOODS                     NaN  Quito  Pichincha   \n                     PRODUCE                            NaN  Quito  Pichincha   \n                     SCHOOL AND OFFICE SUPPLIES         NaN  Quito  Pichincha   \n                     SEAFOOD                            NaN  Quito  Pichincha   \n\n                                                type_y  cluster  dcoilwtico  \\\nstore_nbr date       family                                                   \n1         2013-01-02 AUTOMOTIVE                      D       13       93.14   \n                     BABY CARE                       D       13       93.14   \n                     BEAUTY                          D       13       93.14   \n                     BEVERAGES                       D       13       93.14   \n                     BOOKS                           D       13       93.14   \n...                                                ...      ...         ...   \n9         2017-08-31 POULTRY                         B        6       47.26   \n                     PREPARED FOODS                  B        6       47.26   \n                     PRODUCE                         B        6       47.26   \n                     SCHOOL AND OFFICE SUPPLIES      B        6       47.26   \n                     SEAFOOD                         B        6       47.26   \n\n                                                 transactions  \nstore_nbr date       family                                    \n1         2013-01-02 AUTOMOTIVE                        2111.0  \n                     BABY CARE                         2111.0  \n                     BEAUTY                            2111.0  \n                     BEVERAGES                         2111.0  \n                     BOOKS                             2111.0  \n...                                                       ...  \n9         2017-08-31 POULTRY                              NaN  \n                     PREPARED FOODS                       NaN  \n                     PRODUCE                              NaN  \n                     SCHOOL AND OFFICE SUPPLIES           NaN  \n                     SEAFOOD                              NaN  \n\n[3081078 rows x 15 columns]",
      "text/html": "<div>\n<style scoped>\n    .dataframe tbody tr th:only-of-type {\n        vertical-align: middle;\n    }\n\n    .dataframe tbody tr th {\n        vertical-align: top;\n    }\n\n    .dataframe thead th {\n        text-align: right;\n    }\n</style>\n<table border=\"1\" class=\"dataframe\">\n  <thead>\n    <tr style=\"text-align: right;\">\n      <th></th>\n      <th></th>\n      <th></th>\n      <th>id</th>\n      <th>sales</th>\n      <th>onpromotion</th>\n      <th>test</th>\n      <th>type_x</th>\n      <th>locale</th>\n      <th>locale_name</th>\n      <th>description</th>\n      <th>transferred</th>\n      <th>city</th>\n      <th>state</th>\n      <th>type_y</th>\n      <th>cluster</th>\n      <th>dcoilwtico</th>\n      <th>transactions</th>\n    </tr>\n    <tr>\n      <th>store_nbr</th>\n      <th>date</th>\n      <th>family</th>\n      <th></th>\n      <th></th>\n      <th></th>\n      <th></th>\n      <th></th>\n      <th></th>\n      <th></th>\n      <th></th>\n      <th></th>\n      <th></th>\n      <th></th>\n      <th></th>\n      <th></th>\n      <th></th>\n      <th></th>\n    </tr>\n  </thead>\n  <tbody>\n    <tr>\n      <th rowspan=\"5\" valign=\"top\">1</th>\n      <th rowspan=\"5\" valign=\"top\">2013-01-02</th>\n      <th>AUTOMOTIVE</th>\n      <td>1782</td>\n      <td>2.0</td>\n      <td>0</td>\n      <td>0</td>\n      <td>NaN</td>\n      <td>NaN</td>\n      <td>NaN</td>\n      <td>NaN</td>\n      <td>NaN</td>\n      <td>Quito</td>\n      <td>Pichincha</td>\n      <td>D</td>\n      <td>13</td>\n      <td>93.14</td>\n      <td>2111.0</td>\n    </tr>\n    <tr>\n      <th>BABY CARE</th>\n      <td>1783</td>\n      <td>0.0</td>\n      <td>0</td>\n      <td>0</td>\n      <td>NaN</td>\n      <td>NaN</td>\n      <td>NaN</td>\n      <td>NaN</td>\n      <td>NaN</td>\n      <td>Quito</td>\n      <td>Pichincha</td>\n      <td>D</td>\n      <td>13</td>\n      <td>93.14</td>\n      <td>2111.0</td>\n    </tr>\n    <tr>\n      <th>BEAUTY</th>\n      <td>1784</td>\n      <td>2.0</td>\n      <td>0</td>\n      <td>0</td>\n      <td>NaN</td>\n      <td>NaN</td>\n      <td>NaN</td>\n      <td>NaN</td>\n      <td>NaN</td>\n      <td>Quito</td>\n      <td>Pichincha</td>\n      <td>D</td>\n      <td>13</td>\n      <td>93.14</td>\n      <td>2111.0</td>\n    </tr>\n    <tr>\n      <th>BEVERAGES</th>\n      <td>1785</td>\n      <td>1091.0</td>\n      <td>0</td>\n      <td>0</td>\n      <td>NaN</td>\n      <td>NaN</td>\n      <td>NaN</td>\n      <td>NaN</td>\n      <td>NaN</td>\n      <td>Quito</td>\n      <td>Pichincha</td>\n      <td>D</td>\n      <td>13</td>\n      <td>93.14</td>\n      <td>2111.0</td>\n    </tr>\n    <tr>\n      <th>BOOKS</th>\n      <td>1786</td>\n      <td>0.0</td>\n      <td>0</td>\n      <td>0</td>\n      <td>NaN</td>\n      <td>NaN</td>\n      <td>NaN</td>\n      <td>NaN</td>\n      <td>NaN</td>\n      <td>Quito</td>\n      <td>Pichincha</td>\n      <td>D</td>\n      <td>13</td>\n      <td>93.14</td>\n      <td>2111.0</td>\n    </tr>\n    <tr>\n      <th>...</th>\n      <th>...</th>\n      <th>...</th>\n      <td>...</td>\n      <td>...</td>\n      <td>...</td>\n      <td>...</td>\n      <td>...</td>\n      <td>...</td>\n      <td>...</td>\n      <td>...</td>\n      <td>...</td>\n      <td>...</td>\n      <td>...</td>\n      <td>...</td>\n      <td>...</td>\n      <td>...</td>\n      <td>...</td>\n    </tr>\n    <tr>\n      <th rowspan=\"5\" valign=\"top\">9</th>\n      <th rowspan=\"5\" valign=\"top\">2017-08-31</th>\n      <th>POULTRY</th>\n      <td>3029395</td>\n      <td>NaN</td>\n      <td>1</td>\n      <td>1</td>\n      <td>NaN</td>\n      <td>NaN</td>\n      <td>NaN</td>\n      <td>NaN</td>\n      <td>NaN</td>\n      <td>Quito</td>\n      <td>Pichincha</td>\n      <td>B</td>\n      <td>6</td>\n      <td>47.26</td>\n      <td>NaN</td>\n    </tr>\n    <tr>\n      <th>PREPARED FOODS</th>\n      <td>3029396</td>\n      <td>NaN</td>\n      <td>0</td>\n      <td>1</td>\n      <td>NaN</td>\n      <td>NaN</td>\n      <td>NaN</td>\n      <td>NaN</td>\n      <td>NaN</td>\n      <td>Quito</td>\n      <td>Pichincha</td>\n      <td>B</td>\n      <td>6</td>\n      <td>47.26</td>\n      <td>NaN</td>\n    </tr>\n    <tr>\n      <th>PRODUCE</th>\n      <td>3029397</td>\n      <td>NaN</td>\n      <td>1</td>\n      <td>1</td>\n      <td>NaN</td>\n      <td>NaN</td>\n      <td>NaN</td>\n      <td>NaN</td>\n      <td>NaN</td>\n      <td>Quito</td>\n      <td>Pichincha</td>\n      <td>B</td>\n      <td>6</td>\n      <td>47.26</td>\n      <td>NaN</td>\n    </tr>\n    <tr>\n      <th>SCHOOL AND OFFICE SUPPLIES</th>\n      <td>3029398</td>\n      <td>NaN</td>\n      <td>9</td>\n      <td>1</td>\n      <td>NaN</td>\n      <td>NaN</td>\n      <td>NaN</td>\n      <td>NaN</td>\n      <td>NaN</td>\n      <td>Quito</td>\n      <td>Pichincha</td>\n      <td>B</td>\n      <td>6</td>\n      <td>47.26</td>\n      <td>NaN</td>\n    </tr>\n    <tr>\n      <th>SEAFOOD</th>\n      <td>3029399</td>\n      <td>NaN</td>\n      <td>0</td>\n      <td>1</td>\n      <td>NaN</td>\n      <td>NaN</td>\n      <td>NaN</td>\n      <td>NaN</td>\n      <td>NaN</td>\n      <td>Quito</td>\n      <td>Pichincha</td>\n      <td>B</td>\n      <td>6</td>\n      <td>47.26</td>\n      <td>NaN</td>\n    </tr>\n  </tbody>\n</table>\n<p>3081078 rows × 15 columns</p>\n</div>"
     },
     "metadata": {}
    }
   ]
  },
  {
   "cell_type": "code",
   "source": [
    "# data_ = data.copy().reset_index()\n",
    "\n",
    "# train = data_[data_['test'] == 0]\n",
    "# test = data_[data_['test'] == 1]\n",
    "\n",
    "# train['date'] = pd.to_datetime(train[\"date\"])\n",
    "# train['day_of_week'] = train['date'].dt.day_of_week\n",
    "# train['day_of_year'] = train['date'].dt.dayofyear\n",
    "# train['day_of_month'] = train['date'].dt.day\n",
    "# train['month'] = train['date'].dt.month\n",
    "# train['quarter'] = train['date'].dt.quarter\n",
    "# train['year'] = train['date'].dt.year"
   ],
   "metadata": {
    "execution": {
     "iopub.status.busy": "2024-03-24T00:59:56.236338Z",
     "iopub.execute_input": "2024-03-24T00:59:56.240362Z",
     "iopub.status.idle": "2024-03-24T00:59:58.604975Z",
     "shell.execute_reply.started": "2024-03-24T00:59:56.240327Z",
     "shell.execute_reply": "2024-03-24T00:59:58.603928Z"
    },
    "trusted": true
   },
   "execution_count": 128,
   "outputs": [
    {
     "name": "stderr",
     "text": "/tmp/ipykernel_33/1357458643.py:6: SettingWithCopyWarning: \nA value is trying to be set on a copy of a slice from a DataFrame.\nTry using .loc[row_indexer,col_indexer] = value instead\n\nSee the caveats in the documentation: https://pandas.pydata.org/pandas-docs/stable/user_guide/indexing.html#returning-a-view-versus-a-copy\n  train['date'] = pd.to_datetime(train[\"date\"])\n/tmp/ipykernel_33/1357458643.py:7: SettingWithCopyWarning: \nA value is trying to be set on a copy of a slice from a DataFrame.\nTry using .loc[row_indexer,col_indexer] = value instead\n\nSee the caveats in the documentation: https://pandas.pydata.org/pandas-docs/stable/user_guide/indexing.html#returning-a-view-versus-a-copy\n  train['day_of_week'] = train['date'].dt.day_of_week\n/tmp/ipykernel_33/1357458643.py:8: SettingWithCopyWarning: \nA value is trying to be set on a copy of a slice from a DataFrame.\nTry using .loc[row_indexer,col_indexer] = value instead\n\nSee the caveats in the documentation: https://pandas.pydata.org/pandas-docs/stable/user_guide/indexing.html#returning-a-view-versus-a-copy\n  train['day_of_year'] = train['date'].dt.dayofyear\n/tmp/ipykernel_33/1357458643.py:9: SettingWithCopyWarning: \nA value is trying to be set on a copy of a slice from a DataFrame.\nTry using .loc[row_indexer,col_indexer] = value instead\n\nSee the caveats in the documentation: https://pandas.pydata.org/pandas-docs/stable/user_guide/indexing.html#returning-a-view-versus-a-copy\n  train['day_of_month'] = train['date'].dt.day\n/tmp/ipykernel_33/1357458643.py:10: SettingWithCopyWarning: \nA value is trying to be set on a copy of a slice from a DataFrame.\nTry using .loc[row_indexer,col_indexer] = value instead\n\nSee the caveats in the documentation: https://pandas.pydata.org/pandas-docs/stable/user_guide/indexing.html#returning-a-view-versus-a-copy\n  train['month'] = train['date'].dt.month\n/tmp/ipykernel_33/1357458643.py:11: SettingWithCopyWarning: \nA value is trying to be set on a copy of a slice from a DataFrame.\nTry using .loc[row_indexer,col_indexer] = value instead\n\nSee the caveats in the documentation: https://pandas.pydata.org/pandas-docs/stable/user_guide/indexing.html#returning-a-view-versus-a-copy\n  train['quarter'] = train['date'].dt.quarter\n/tmp/ipykernel_33/1357458643.py:12: SettingWithCopyWarning: \nA value is trying to be set on a copy of a slice from a DataFrame.\nTry using .loc[row_indexer,col_indexer] = value instead\n\nSee the caveats in the documentation: https://pandas.pydata.org/pandas-docs/stable/user_guide/indexing.html#returning-a-view-versus-a-copy\n  train['year'] = train['date'].dt.year\n",
     "output_type": "stream"
    }
   ]
  },
  {
   "cell_type": "code",
   "source": [
    "# grouping_columns = ['year', 'quarter', 'month', 'day_of_week', 'day_of_year', 'day_of_month']\n",
    "\n",
    "# for ind, column in enumerate(grouping_columns):\n",
    "#     grouped_data = train.groupby(column)['sales'].sum()\n",
    "#     grouped_data = pd.DataFrame(grouped_data).reset_index()"
   ],
   "metadata": {
    "execution": {
     "iopub.status.busy": "2024-03-24T00:59:58.606302Z",
     "iopub.execute_input": "2024-03-24T00:59:58.606653Z",
     "iopub.status.idle": "2024-03-24T00:59:59.070227Z",
     "shell.execute_reply.started": "2024-03-24T00:59:58.606624Z",
     "shell.execute_reply": "2024-03-24T00:59:59.069064Z"
    },
    "trusted": true
   },
   "execution_count": 129,
   "outputs": []
  },
  {
   "cell_type": "code",
   "source": [
    "data_ = data.copy().reset_index()\n",
    "grouped_data = data_.groupby(['store_nbr', 'family'])"
   ],
   "metadata": {
    "execution": {
     "iopub.status.busy": "2024-03-24T00:59:59.071692Z",
     "iopub.execute_input": "2024-03-24T00:59:59.072049Z",
     "iopub.status.idle": "2024-03-24T01:00:00.020821Z",
     "shell.execute_reply.started": "2024-03-24T00:59:59.072007Z",
     "shell.execute_reply": "2024-03-24T01:00:00.019700Z"
    },
    "trusted": true
   },
   "execution_count": 130,
   "outputs": []
  },
  {
   "cell_type": "code",
   "source": [
    "alphas = [0.95, 0.8, 0.65, 0.5]\n",
    "lags =[1,7,30]\n",
    "\n",
    "for a in alphas:\n",
    "    for i in lags:\n",
    "        data_[f'sales_lag_{i}_alpha_{a}'] = np.log1p(grouped_data['sales'].transform(lambda x: x.shift(i).ewm(alpha=a, min_periods=1).mean()))\n",
    "\n",
    "data_['sales_lag_7_alpha_0.5'].describe()"
   ],
   "metadata": {
    "execution": {
     "iopub.status.busy": "2024-03-24T01:00:00.022209Z",
     "iopub.execute_input": "2024-03-24T01:00:00.022645Z",
     "iopub.status.idle": "2024-03-24T01:00:16.016873Z",
     "shell.execute_reply.started": "2024-03-24T01:00:00.022617Z",
     "shell.execute_reply": "2024-03-24T01:00:16.015801Z"
    },
    "trusted": true
   },
   "execution_count": 131,
   "outputs": [
    {
     "execution_count": 131,
     "output_type": "execute_result",
     "data": {
      "text/plain": "count    3.068604e+06\nmean     3.002727e+00\nstd      2.665066e+00\nmin      0.000000e+00\n25%      1.550843e-02\n50%      2.562952e+00\n75%      5.312741e+00\nmax      1.112374e+01\nName: sales_lag_7_alpha_0.5, dtype: float64"
     },
     "metadata": {}
    }
   ]
  },
  {
   "cell_type": "code",
   "source": [
    "data_['date'] = pd.to_datetime(train[\"date\"])\n",
    "data_['day_of_week'] = data_['date'].dt.day_of_week\n",
    "data_['day_of_year'] = data_['date'].dt.dayofyear\n",
    "data_['day_of_month'] = data_['date'].dt.day\n",
    "data_['month'] = data_['date'].dt.month\n",
    "data_['quarter'] = data_['date'].dt.quarter\n",
    "data_['year'] = data_['date'].dt.year\n",
    "data_['onpromotion'] = data_['onpromotion'].apply(lambda x: x > 0)"
   ],
   "metadata": {
    "execution": {
     "iopub.status.busy": "2024-03-24T01:00:16.018332Z",
     "iopub.execute_input": "2024-03-24T01:00:16.018854Z",
     "iopub.status.idle": "2024-03-24T01:00:17.950798Z",
     "shell.execute_reply.started": "2024-03-24T01:00:16.018825Z",
     "shell.execute_reply": "2024-03-24T01:00:17.949861Z"
    },
    "trusted": true
   },
   "execution_count": 132,
   "outputs": []
  },
  {
   "cell_type": "code",
   "source": [
    "sales_lag_columns = list(data_.filter(like=\"lag\").columns)"
   ],
   "metadata": {
    "execution": {
     "iopub.status.busy": "2024-03-24T01:00:17.955303Z",
     "iopub.execute_input": "2024-03-24T01:00:17.955637Z",
     "iopub.status.idle": "2024-03-24T01:00:18.070757Z",
     "shell.execute_reply.started": "2024-03-24T01:00:17.955610Z",
     "shell.execute_reply": "2024-03-24T01:00:18.069802Z"
    },
    "trusted": true
   },
   "execution_count": 133,
   "outputs": []
  },
  {
   "cell_type": "code",
   "source": [
    "training_percentage = 0.8\n",
    "testing_percentage = 0.2\n",
    "\n",
    "to_dummies = ['day_of_week', 'day_of_month', 'month', 'quarter', 'year', 'store_nbr', 'type_y', 'cluster', 'family', 'onpromotion', 'type_x',\n",
    "       'locale', 'locale_name', 'city', 'state']\n",
    "\n",
    "X = data_.loc[:, [ 'day_of_week', 'day_of_month', 'month', 'quarter', 'year', 'store_nbr', 'type_y', 'cluster', 'family', 'onpromotion', 'type_x',\n",
    "       'locale', 'locale_name',  'city', 'state', 'test', 'sales', 'id']+ sales_lag_columns]\n",
    "X[to_dummies] = X[to_dummies].astype('category')\n",
    "\n",
    "data_train = X[X['test'] == 0]\n",
    "data_test = X[X['test'] == 1]\n",
    "\n",
    "n = len(data_train)\n",
    "\n",
    "training_start = 0\n",
    "training_end = math.floor(n * training_percentage)\n",
    "validation_start = training_end\n",
    "validation_end = n\n",
    "\n",
    "X_train = data_train.loc[training_start:training_end, :].drop(['test', 'sales', 'id'],  axis=1)\n",
    "y_train = data_train.loc[training_start:training_end, 'sales']\n",
    "X_val = data_train.loc[validation_start:validation_end,  :].drop(['test', 'sales', 'id'],  axis=1)\n",
    "y_val = data_train.loc[validation_start:validation_end, 'sales']\n",
    "\n",
    "X_test = data_test.loc[:, ].drop(['test', 'sales', 'id'],  axis=1)"
   ],
   "metadata": {
    "execution": {
     "iopub.status.busy": "2024-03-24T01:00:18.072250Z",
     "iopub.execute_input": "2024-03-24T01:00:18.072552Z",
     "iopub.status.idle": "2024-03-24T01:00:21.779030Z",
     "shell.execute_reply.started": "2024-03-24T01:00:18.072527Z",
     "shell.execute_reply": "2024-03-24T01:00:21.777915Z"
    },
    "trusted": true
   },
   "execution_count": 134,
   "outputs": []
  },
  {
   "cell_type": "code",
   "source": [
    "X_train = X_train.rename(columns = lambda x:re.sub('[^A-Za-z0-9_]+', '', x)) \n",
    "X_val = X_val.rename(columns = lambda x:re.sub('[^A-Za-z0-9_]+', '', x)) \n",
    "X_test = X_test.rename(columns = lambda x:re.sub('[^A-Za-z0-9_]+', '', x)) "
   ],
   "metadata": {
    "execution": {
     "iopub.status.busy": "2024-03-24T01:00:21.780460Z",
     "iopub.execute_input": "2024-03-24T01:00:21.780805Z",
     "iopub.status.idle": "2024-03-24T01:00:22.063080Z",
     "shell.execute_reply.started": "2024-03-24T01:00:21.780778Z",
     "shell.execute_reply": "2024-03-24T01:00:22.061981Z"
    },
    "trusted": true
   },
   "execution_count": 135,
   "outputs": []
  },
  {
   "cell_type": "code",
   "source": [
    "hyper_params = {'task': 'train','boosting_type': 'gbdt','objective': 'regression','metric': ['l1','l2'],'learning_rate': 0.1,\n",
    "'feature_fraction': 0.9,'bagging_fraction': 0.7,'bagging_freq': 10,'verbose': 0,\"max_depth\": 50,\"num_leaves\": 128,\"max_bin\": 512}\n",
    "\n",
    "gbm = lgb.LGBMRegressor(**hyper_params)\n",
    "\n",
    "gbm.fit(X_train, y_train,\n",
    "        eval_set=[(X_val, y_val)],\n",
    "        eval_metric='l1')"
   ],
   "metadata": {
    "execution": {
     "iopub.status.busy": "2024-03-24T01:00:22.064536Z",
     "iopub.execute_input": "2024-03-24T01:00:22.064868Z",
     "iopub.status.idle": "2024-03-24T01:01:23.358997Z",
     "shell.execute_reply.started": "2024-03-24T01:00:22.064841Z",
     "shell.execute_reply": "2024-03-24T01:01:23.357920Z"
    },
    "trusted": true
   },
   "execution_count": 136,
   "outputs": [
    {
     "name": "stdout",
     "text": "[LightGBM] [Warning] feature_fraction is set=0.9, colsample_bytree=1.0 will be ignored. Current value: feature_fraction=0.9\n[LightGBM] [Warning] bagging_fraction is set=0.7, subsample=1.0 will be ignored. Current value: bagging_fraction=0.7\n[LightGBM] [Warning] bagging_freq is set=10, subsample_freq=0 will be ignored. Current value: bagging_freq=10\n[LightGBM] [Warning] feature_fraction is set=0.9, colsample_bytree=1.0 will be ignored. Current value: feature_fraction=0.9\n[LightGBM] [Warning] bagging_fraction is set=0.7, subsample=1.0 will be ignored. Current value: bagging_fraction=0.7\n[LightGBM] [Warning] bagging_freq is set=10, subsample_freq=0 will be ignored. Current value: bagging_freq=10\n[LightGBM] [Warning] feature_fraction is set=0.9, colsample_bytree=1.0 will be ignored. Current value: feature_fraction=0.9\n[LightGBM] [Warning] bagging_fraction is set=0.7, subsample=1.0 will be ignored. Current value: bagging_fraction=0.7\n[LightGBM] [Warning] bagging_freq is set=10, subsample_freq=0 will be ignored. Current value: bagging_freq=10\n",
     "output_type": "stream"
    },
    {
     "execution_count": 136,
     "output_type": "execute_result",
     "data": {
      "text/plain": "LGBMRegressor(bagging_fraction=0.7, bagging_freq=10, feature_fraction=0.9,\n              max_bin=512, max_depth=50, metric=['l1', 'l2'], num_leaves=128,\n              objective='regression', task='train', verbose=0)",
      "text/html": "<style>#sk-container-id-5 {color: black;background-color: white;}#sk-container-id-5 pre{padding: 0;}#sk-container-id-5 div.sk-toggleable {background-color: white;}#sk-container-id-5 label.sk-toggleable__label {cursor: pointer;display: block;width: 100%;margin-bottom: 0;padding: 0.3em;box-sizing: border-box;text-align: center;}#sk-container-id-5 label.sk-toggleable__label-arrow:before {content: \"▸\";float: left;margin-right: 0.25em;color: #696969;}#sk-container-id-5 label.sk-toggleable__label-arrow:hover:before {color: black;}#sk-container-id-5 div.sk-estimator:hover label.sk-toggleable__label-arrow:before {color: black;}#sk-container-id-5 div.sk-toggleable__content {max-height: 0;max-width: 0;overflow: hidden;text-align: left;background-color: #f0f8ff;}#sk-container-id-5 div.sk-toggleable__content pre {margin: 0.2em;color: black;border-radius: 0.25em;background-color: #f0f8ff;}#sk-container-id-5 input.sk-toggleable__control:checked~div.sk-toggleable__content {max-height: 200px;max-width: 100%;overflow: auto;}#sk-container-id-5 input.sk-toggleable__control:checked~label.sk-toggleable__label-arrow:before {content: \"▾\";}#sk-container-id-5 div.sk-estimator input.sk-toggleable__control:checked~label.sk-toggleable__label {background-color: #d4ebff;}#sk-container-id-5 div.sk-label input.sk-toggleable__control:checked~label.sk-toggleable__label {background-color: #d4ebff;}#sk-container-id-5 input.sk-hidden--visually {border: 0;clip: rect(1px 1px 1px 1px);clip: rect(1px, 1px, 1px, 1px);height: 1px;margin: -1px;overflow: hidden;padding: 0;position: absolute;width: 1px;}#sk-container-id-5 div.sk-estimator {font-family: monospace;background-color: #f0f8ff;border: 1px dotted black;border-radius: 0.25em;box-sizing: border-box;margin-bottom: 0.5em;}#sk-container-id-5 div.sk-estimator:hover {background-color: #d4ebff;}#sk-container-id-5 div.sk-parallel-item::after {content: \"\";width: 100%;border-bottom: 1px solid gray;flex-grow: 1;}#sk-container-id-5 div.sk-label:hover label.sk-toggleable__label {background-color: #d4ebff;}#sk-container-id-5 div.sk-serial::before {content: \"\";position: absolute;border-left: 1px solid gray;box-sizing: border-box;top: 0;bottom: 0;left: 50%;z-index: 0;}#sk-container-id-5 div.sk-serial {display: flex;flex-direction: column;align-items: center;background-color: white;padding-right: 0.2em;padding-left: 0.2em;position: relative;}#sk-container-id-5 div.sk-item {position: relative;z-index: 1;}#sk-container-id-5 div.sk-parallel {display: flex;align-items: stretch;justify-content: center;background-color: white;position: relative;}#sk-container-id-5 div.sk-item::before, #sk-container-id-5 div.sk-parallel-item::before {content: \"\";position: absolute;border-left: 1px solid gray;box-sizing: border-box;top: 0;bottom: 0;left: 50%;z-index: -1;}#sk-container-id-5 div.sk-parallel-item {display: flex;flex-direction: column;z-index: 1;position: relative;background-color: white;}#sk-container-id-5 div.sk-parallel-item:first-child::after {align-self: flex-end;width: 50%;}#sk-container-id-5 div.sk-parallel-item:last-child::after {align-self: flex-start;width: 50%;}#sk-container-id-5 div.sk-parallel-item:only-child::after {width: 0;}#sk-container-id-5 div.sk-dashed-wrapped {border: 1px dashed gray;margin: 0 0.4em 0.5em 0.4em;box-sizing: border-box;padding-bottom: 0.4em;background-color: white;}#sk-container-id-5 div.sk-label label {font-family: monospace;font-weight: bold;display: inline-block;line-height: 1.2em;}#sk-container-id-5 div.sk-label-container {text-align: center;}#sk-container-id-5 div.sk-container {/* jupyter's `normalize.less` sets `[hidden] { display: none; }` but bootstrap.min.css set `[hidden] { display: none !important; }` so we also need the `!important` here to be able to override the default hidden behavior on the sphinx rendered scikit-learn.org. See: https://github.com/scikit-learn/scikit-learn/issues/21755 */display: inline-block !important;position: relative;}#sk-container-id-5 div.sk-text-repr-fallback {display: none;}</style><div id=\"sk-container-id-5\" class=\"sk-top-container\"><div class=\"sk-text-repr-fallback\"><pre>LGBMRegressor(bagging_fraction=0.7, bagging_freq=10, feature_fraction=0.9,\n              max_bin=512, max_depth=50, metric=[&#x27;l1&#x27;, &#x27;l2&#x27;], num_leaves=128,\n              objective=&#x27;regression&#x27;, task=&#x27;train&#x27;, verbose=0)</pre><b>In a Jupyter environment, please rerun this cell to show the HTML representation or trust the notebook. <br />On GitHub, the HTML representation is unable to render, please try loading this page with nbviewer.org.</b></div><div class=\"sk-container\" hidden><div class=\"sk-item\"><div class=\"sk-estimator sk-toggleable\"><input class=\"sk-toggleable__control sk-hidden--visually\" id=\"sk-estimator-id-5\" type=\"checkbox\" checked><label for=\"sk-estimator-id-5\" class=\"sk-toggleable__label sk-toggleable__label-arrow\">LGBMRegressor</label><div class=\"sk-toggleable__content\"><pre>LGBMRegressor(bagging_fraction=0.7, bagging_freq=10, feature_fraction=0.9,\n              max_bin=512, max_depth=50, metric=[&#x27;l1&#x27;, &#x27;l2&#x27;], num_leaves=128,\n              objective=&#x27;regression&#x27;, task=&#x27;train&#x27;, verbose=0)</pre></div></div></div></div></div>"
     },
     "metadata": {}
    }
   ]
  },
  {
   "cell_type": "code",
   "source": [
    "y_pred = gbm.predict(X_val)"
   ],
   "metadata": {
    "execution": {
     "iopub.status.busy": "2024-03-24T01:01:23.360731Z",
     "iopub.execute_input": "2024-03-24T01:01:23.361030Z",
     "iopub.status.idle": "2024-03-24T01:01:26.322633Z",
     "shell.execute_reply.started": "2024-03-24T01:01:23.361005Z",
     "shell.execute_reply": "2024-03-24T01:01:26.321693Z"
    },
    "trusted": true
   },
   "execution_count": 137,
   "outputs": [
    {
     "name": "stdout",
     "text": "[LightGBM] [Warning] feature_fraction is set=0.9, colsample_bytree=1.0 will be ignored. Current value: feature_fraction=0.9\n[LightGBM] [Warning] bagging_fraction is set=0.7, subsample=1.0 will be ignored. Current value: bagging_fraction=0.7\n[LightGBM] [Warning] bagging_freq is set=10, subsample_freq=0 will be ignored. Current value: bagging_freq=10\n",
     "output_type": "stream"
    }
   ]
  },
  {
   "cell_type": "code",
   "source": [
    "results = pd.concat([y_val.reset_index(drop=True), pd.Series(y_pred)], axis=1).rename(columns={'sales': 'y_val', 0: 'y_pred'})\n",
    "\n",
    "results['y_pred'] = results['y_pred'].clip(0)\n",
    "\n",
    "results = results[results['y_val'] > 10]\n",
    "\n",
    "results"
   ],
   "metadata": {
    "execution": {
     "iopub.status.busy": "2024-03-24T01:01:26.323954Z",
     "iopub.execute_input": "2024-03-24T01:01:26.324283Z",
     "iopub.status.idle": "2024-03-24T01:01:26.359305Z",
     "shell.execute_reply.started": "2024-03-24T01:01:26.324256Z",
     "shell.execute_reply": "2024-03-24T01:01:26.358331Z"
    },
    "trusted": true
   },
   "execution_count": 138,
   "outputs": [
    {
     "execution_count": 138,
     "output_type": "execute_result",
     "data": {
      "text/plain": "           y_val       y_pred\n3         19.000   106.410473\n5        119.630   121.568432\n6        181.000   255.618499\n9        165.181   191.744160\n10        95.198    79.172090\n...          ...          ...\n610509   438.133   343.113848\n610510   154.553   119.901681\n610511  2419.729  2109.172875\n610512   121.000   170.938767\n610513    16.000    16.876860\n\n[371723 rows x 2 columns]",
      "text/html": "<div>\n<style scoped>\n    .dataframe tbody tr th:only-of-type {\n        vertical-align: middle;\n    }\n\n    .dataframe tbody tr th {\n        vertical-align: top;\n    }\n\n    .dataframe thead th {\n        text-align: right;\n    }\n</style>\n<table border=\"1\" class=\"dataframe\">\n  <thead>\n    <tr style=\"text-align: right;\">\n      <th></th>\n      <th>y_val</th>\n      <th>y_pred</th>\n    </tr>\n  </thead>\n  <tbody>\n    <tr>\n      <th>3</th>\n      <td>19.000</td>\n      <td>106.410473</td>\n    </tr>\n    <tr>\n      <th>5</th>\n      <td>119.630</td>\n      <td>121.568432</td>\n    </tr>\n    <tr>\n      <th>6</th>\n      <td>181.000</td>\n      <td>255.618499</td>\n    </tr>\n    <tr>\n      <th>9</th>\n      <td>165.181</td>\n      <td>191.744160</td>\n    </tr>\n    <tr>\n      <th>10</th>\n      <td>95.198</td>\n      <td>79.172090</td>\n    </tr>\n    <tr>\n      <th>...</th>\n      <td>...</td>\n      <td>...</td>\n    </tr>\n    <tr>\n      <th>610509</th>\n      <td>438.133</td>\n      <td>343.113848</td>\n    </tr>\n    <tr>\n      <th>610510</th>\n      <td>154.553</td>\n      <td>119.901681</td>\n    </tr>\n    <tr>\n      <th>610511</th>\n      <td>2419.729</td>\n      <td>2109.172875</td>\n    </tr>\n    <tr>\n      <th>610512</th>\n      <td>121.000</td>\n      <td>170.938767</td>\n    </tr>\n    <tr>\n      <th>610513</th>\n      <td>16.000</td>\n      <td>16.876860</td>\n    </tr>\n  </tbody>\n</table>\n<p>371723 rows × 2 columns</p>\n</div>"
     },
     "metadata": {}
    }
   ]
  },
  {
   "cell_type": "code",
   "source": [
    "y_pred = gbm.predict(X_test)\n",
    "y_pred"
   ],
   "metadata": {
    "execution": {
     "iopub.status.busy": "2024-03-24T01:01:26.360641Z",
     "iopub.execute_input": "2024-03-24T01:01:26.360982Z",
     "iopub.status.idle": "2024-03-24T01:01:26.507018Z",
     "shell.execute_reply.started": "2024-03-24T01:01:26.360955Z",
     "shell.execute_reply": "2024-03-24T01:01:26.506236Z"
    },
    "trusted": true
   },
   "execution_count": 139,
   "outputs": [
    {
     "name": "stdout",
     "text": "[LightGBM] [Warning] feature_fraction is set=0.9, colsample_bytree=1.0 will be ignored. Current value: feature_fraction=0.9\n[LightGBM] [Warning] bagging_fraction is set=0.7, subsample=1.0 will be ignored. Current value: bagging_fraction=0.7\n[LightGBM] [Warning] bagging_freq is set=10, subsample_freq=0 will be ignored. Current value: bagging_freq=10\n",
     "output_type": "stream"
    },
    {
     "execution_count": 139,
     "output_type": "execute_result",
     "data": {
      "text/plain": "array([2.59222315e+00, 1.07496530e+00, 8.20437608e+00, ...,\n       1.83905694e+03, 1.36263028e+02, 1.71286233e+01])"
     },
     "metadata": {}
    }
   ]
  },
  {
   "cell_type": "code",
   "source": [
    "data_test['id']\n",
    "output = pd.DataFrame(index=data_test['id'])\n",
    "output['sales'] = y_pred\n",
    "output['sales'] = output['sales'].clip(0)"
   ],
   "metadata": {
    "execution": {
     "iopub.status.busy": "2024-03-24T01:01:26.508145Z",
     "iopub.execute_input": "2024-03-24T01:01:26.509010Z",
     "iopub.status.idle": "2024-03-24T01:01:26.517553Z",
     "shell.execute_reply.started": "2024-03-24T01:01:26.508980Z",
     "shell.execute_reply": "2024-03-24T01:01:26.516526Z"
    },
    "trusted": true
   },
   "execution_count": 140,
   "outputs": []
  },
  {
   "cell_type": "code",
   "source": [
    "output.to_csv('/kaggle/working/submission.csv')"
   ],
   "metadata": {
    "execution": {
     "iopub.status.busy": "2024-03-24T01:01:26.518999Z",
     "iopub.execute_input": "2024-03-24T01:01:26.519422Z",
     "iopub.status.idle": "2024-03-24T01:01:26.617055Z",
     "shell.execute_reply.started": "2024-03-24T01:01:26.519384Z",
     "shell.execute_reply": "2024-03-24T01:01:26.616180Z"
    },
    "trusted": true
   },
   "execution_count": 141,
   "outputs": []
  }
 ]
}
