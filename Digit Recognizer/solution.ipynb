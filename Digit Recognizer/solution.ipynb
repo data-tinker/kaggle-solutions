{
 "metadata": {
  "kernelspec": {
   "language": "python",
   "display_name": "Python 3",
   "name": "python3"
  },
  "language_info": {
   "name": "python",
   "version": "3.10.13",
   "mimetype": "text/x-python",
   "codemirror_mode": {
    "name": "ipython",
    "version": 3
   },
   "pygments_lexer": "ipython3",
   "nbconvert_exporter": "python",
   "file_extension": ".py"
  },
  "kaggle": {
   "accelerator": "none",
   "dataSources": [
    {
     "sourceId": 3004,
     "databundleVersionId": 861823,
     "sourceType": "competition"
    }
   ],
   "dockerImageVersionId": 30646,
   "isInternetEnabled": true,
   "language": "python",
   "sourceType": "notebook",
   "isGpuEnabled": false
  }
 },
 "nbformat_minor": 4,
 "nbformat": 4,
 "cells": [
  {
   "cell_type": "code",
   "source": [
    "# This Python 3 environment comes with many helpful analytics libraries installed\n",
    "# It is defined by the kaggle/python Docker image: https://github.com/kaggle/docker-python\n",
    "# For example, here's several helpful packages to load\n",
    "\n",
    "import numpy as np # linear algebra\n",
    "import pandas as pd # data processing, CSV file I/O (e.g. pd.read_csv)\n",
    "import matplotlib.pyplot as plt\n",
    "\n",
    "from sklearn.model_selection import train_test_split\n",
    "\n",
    "from tensorflow.keras import utils\n",
    "from keras.models import Sequential\n",
    "from keras.layers import Dense, Dropout, Flatten, Conv2D, MaxPool2D\n",
    "from keras.optimizers import RMSprop\n",
    "from keras.preprocessing.image import ImageDataGenerator\n",
    "from keras.callbacks import ReduceLROnPlateau\n",
    "\n",
    "random_seed = 2"
   ],
   "metadata": {
    "_uuid": "8f2839f25d086af736a60e9eeb907d3b93b6e0e5",
    "_cell_guid": "b1076dfc-b9ad-4769-8c92-a6c4dae69d19",
    "execution": {
     "iopub.status.busy": "2024-02-18T02:59:46.440526Z",
     "iopub.execute_input": "2024-02-18T02:59:46.440923Z",
     "iopub.status.idle": "2024-02-18T02:59:46.452199Z",
     "shell.execute_reply.started": "2024-02-18T02:59:46.440894Z",
     "shell.execute_reply": "2024-02-18T02:59:46.451003Z"
    },
    "trusted": true,
    "ExecuteTime": {
     "end_time": "2024-02-18T03:22:12.236840Z",
     "start_time": "2024-02-18T03:21:55.446797Z"
    }
   },
   "execution_count": 1,
   "outputs": []
  },
  {
   "cell_type": "markdown",
   "source": [
    "## Load Data "
   ],
   "metadata": {}
  },
  {
   "cell_type": "code",
   "source": [
    "train = pd.read_csv(\"./data/train.csv\")\n",
    "test = pd.read_csv(\"./data/test.csv\")"
   ],
   "metadata": {
    "execution": {
     "iopub.status.busy": "2024-02-18T02:59:46.454373Z",
     "iopub.execute_input": "2024-02-18T02:59:46.455547Z",
     "iopub.status.idle": "2024-02-18T02:59:50.246284Z",
     "shell.execute_reply.started": "2024-02-18T02:59:46.455508Z",
     "shell.execute_reply": "2024-02-18T02:59:50.245139Z"
    },
    "trusted": true,
    "ExecuteTime": {
     "end_time": "2024-02-18T03:22:13.669906Z",
     "start_time": "2024-02-18T03:22:12.236886Z"
    }
   },
   "execution_count": 2,
   "outputs": []
  },
  {
   "cell_type": "code",
   "source": [
    "y_train = train[\"label\"]\n",
    "\n",
    "# Drop 'label' column\n",
    "X_train = train.drop(labels = [\"label\"],axis = 1)"
   ],
   "metadata": {
    "execution": {
     "iopub.status.busy": "2024-02-18T02:59:50.247665Z",
     "iopub.execute_input": "2024-02-18T02:59:50.248149Z",
     "iopub.status.idle": "2024-02-18T02:59:50.349206Z",
     "shell.execute_reply.started": "2024-02-18T02:59:50.248090Z",
     "shell.execute_reply": "2024-02-18T02:59:50.348067Z"
    },
    "trusted": true,
    "ExecuteTime": {
     "end_time": "2024-02-18T03:22:13.729710Z",
     "start_time": "2024-02-18T03:22:13.671307Z"
    }
   },
   "execution_count": 3,
   "outputs": []
  },
  {
   "cell_type": "code",
   "source": [
    "y_train.value_counts()"
   ],
   "metadata": {
    "execution": {
     "iopub.status.busy": "2024-02-18T02:59:50.351881Z",
     "iopub.execute_input": "2024-02-18T02:59:50.352231Z",
     "iopub.status.idle": "2024-02-18T02:59:50.360445Z",
     "shell.execute_reply.started": "2024-02-18T02:59:50.352203Z",
     "shell.execute_reply": "2024-02-18T02:59:50.359336Z"
    },
    "trusted": true,
    "ExecuteTime": {
     "end_time": "2024-02-18T03:22:13.739437Z",
     "start_time": "2024-02-18T03:22:13.734394Z"
    }
   },
   "execution_count": 4,
   "outputs": [
    {
     "data": {
      "text/plain": "label\n1    4684\n7    4401\n3    4351\n9    4188\n2    4177\n6    4137\n0    4132\n4    4072\n8    4063\n5    3795\nName: count, dtype: int64"
     },
     "execution_count": 4,
     "metadata": {},
     "output_type": "execute_result"
    }
   ]
  },
  {
   "cell_type": "markdown",
   "source": [
    "## Check for null values "
   ],
   "metadata": {}
  },
  {
   "cell_type": "code",
   "source": [
    "X_train.isnull().any().describe()"
   ],
   "metadata": {
    "execution": {
     "iopub.status.busy": "2024-02-18T02:59:50.362081Z",
     "iopub.execute_input": "2024-02-18T02:59:50.362422Z",
     "iopub.status.idle": "2024-02-18T02:59:50.384731Z",
     "shell.execute_reply.started": "2024-02-18T02:59:50.362385Z",
     "shell.execute_reply": "2024-02-18T02:59:50.383649Z"
    },
    "trusted": true,
    "ExecuteTime": {
     "end_time": "2024-02-18T03:22:13.748211Z",
     "start_time": "2024-02-18T03:22:13.737012Z"
    }
   },
   "execution_count": 5,
   "outputs": [
    {
     "data": {
      "text/plain": "count       784\nunique        1\ntop       False\nfreq        784\ndtype: object"
     },
     "execution_count": 5,
     "metadata": {},
     "output_type": "execute_result"
    }
   ]
  },
  {
   "cell_type": "code",
   "source": [
    "test.isnull().any().describe()"
   ],
   "metadata": {
    "execution": {
     "iopub.status.busy": "2024-02-18T02:59:50.386288Z",
     "iopub.execute_input": "2024-02-18T02:59:50.386662Z",
     "iopub.status.idle": "2024-02-18T02:59:50.402622Z",
     "shell.execute_reply.started": "2024-02-18T02:59:50.386633Z",
     "shell.execute_reply": "2024-02-18T02:59:50.401549Z"
    },
    "trusted": true,
    "ExecuteTime": {
     "end_time": "2024-02-18T03:22:13.791741Z",
     "start_time": "2024-02-18T03:22:13.748279Z"
    }
   },
   "execution_count": 6,
   "outputs": [
    {
     "data": {
      "text/plain": "count       784\nunique        1\ntop       False\nfreq        784\ndtype: object"
     },
     "execution_count": 6,
     "metadata": {},
     "output_type": "execute_result"
    }
   ]
  },
  {
   "cell_type": "markdown",
   "source": [
    "## Normalization "
   ],
   "metadata": {}
  },
  {
   "cell_type": "code",
   "source": [
    "X_train = X_train / 255.0\n",
    "test = test / 255.0"
   ],
   "metadata": {
    "execution": {
     "iopub.status.busy": "2024-02-18T02:59:50.404350Z",
     "iopub.execute_input": "2024-02-18T02:59:50.404660Z",
     "iopub.status.idle": "2024-02-18T02:59:50.504068Z",
     "shell.execute_reply.started": "2024-02-18T02:59:50.404635Z",
     "shell.execute_reply": "2024-02-18T02:59:50.503109Z"
    },
    "trusted": true,
    "ExecuteTime": {
     "end_time": "2024-02-18T03:22:13.840782Z",
     "start_time": "2024-02-18T03:22:13.754701Z"
    }
   },
   "execution_count": 7,
   "outputs": []
  },
  {
   "cell_type": "markdown",
   "source": [
    "## Reshape"
   ],
   "metadata": {}
  },
  {
   "cell_type": "code",
   "source": [
    "X_train = X_train.values.reshape(-1,28,28,1)\n",
    "test = test.values.reshape(-1,28,28,1)"
   ],
   "metadata": {
    "execution": {
     "iopub.status.busy": "2024-02-18T02:59:50.505028Z",
     "iopub.execute_input": "2024-02-18T02:59:50.505336Z",
     "iopub.status.idle": "2024-02-18T02:59:50.510443Z",
     "shell.execute_reply.started": "2024-02-18T02:59:50.505311Z",
     "shell.execute_reply": "2024-02-18T02:59:50.509623Z"
    },
    "trusted": true,
    "ExecuteTime": {
     "end_time": "2024-02-18T03:22:13.841627Z",
     "start_time": "2024-02-18T03:22:13.838124Z"
    }
   },
   "execution_count": 8,
   "outputs": []
  },
  {
   "cell_type": "markdown",
   "source": [
    "## Label encoding"
   ],
   "metadata": {}
  },
  {
   "cell_type": "code",
   "source": [
    "y_train[0:5]"
   ],
   "metadata": {
    "execution": {
     "iopub.status.busy": "2024-02-18T02:59:50.511706Z",
     "iopub.execute_input": "2024-02-18T02:59:50.512011Z",
     "iopub.status.idle": "2024-02-18T02:59:50.522883Z",
     "shell.execute_reply.started": "2024-02-18T02:59:50.511986Z",
     "shell.execute_reply": "2024-02-18T02:59:50.522063Z"
    },
    "trusted": true,
    "ExecuteTime": {
     "end_time": "2024-02-18T03:22:13.843530Z",
     "start_time": "2024-02-18T03:22:13.841606Z"
    }
   },
   "execution_count": 9,
   "outputs": [
    {
     "data": {
      "text/plain": "0    1\n1    0\n2    1\n3    4\n4    0\nName: label, dtype: int64"
     },
     "execution_count": 9,
     "metadata": {},
     "output_type": "execute_result"
    }
   ]
  },
  {
   "cell_type": "code",
   "source": [
    "y_train = utils.to_categorical(y_train, num_classes = 10)"
   ],
   "metadata": {
    "execution": {
     "iopub.status.busy": "2024-02-18T02:59:50.526975Z",
     "iopub.execute_input": "2024-02-18T02:59:50.527641Z",
     "iopub.status.idle": "2024-02-18T02:59:50.532618Z",
     "shell.execute_reply.started": "2024-02-18T02:59:50.527591Z",
     "shell.execute_reply": "2024-02-18T02:59:50.531643Z"
    },
    "trusted": true,
    "ExecuteTime": {
     "end_time": "2024-02-18T03:22:13.850064Z",
     "start_time": "2024-02-18T03:22:13.845444Z"
    }
   },
   "execution_count": 10,
   "outputs": []
  },
  {
   "cell_type": "code",
   "source": [
    "y_train[0:5]"
   ],
   "metadata": {
    "execution": {
     "iopub.status.busy": "2024-02-18T02:59:50.533990Z",
     "iopub.execute_input": "2024-02-18T02:59:50.534356Z",
     "iopub.status.idle": "2024-02-18T02:59:50.544465Z",
     "shell.execute_reply.started": "2024-02-18T02:59:50.534331Z",
     "shell.execute_reply": "2024-02-18T02:59:50.543467Z"
    },
    "trusted": true,
    "ExecuteTime": {
     "end_time": "2024-02-18T03:22:13.852064Z",
     "start_time": "2024-02-18T03:22:13.850367Z"
    }
   },
   "execution_count": 11,
   "outputs": [
    {
     "data": {
      "text/plain": "array([[0., 1., 0., 0., 0., 0., 0., 0., 0., 0.],\n       [1., 0., 0., 0., 0., 0., 0., 0., 0., 0.],\n       [0., 1., 0., 0., 0., 0., 0., 0., 0., 0.],\n       [0., 0., 0., 0., 1., 0., 0., 0., 0., 0.],\n       [1., 0., 0., 0., 0., 0., 0., 0., 0., 0.]], dtype=float32)"
     },
     "execution_count": 11,
     "metadata": {},
     "output_type": "execute_result"
    }
   ]
  },
  {
   "cell_type": "markdown",
   "source": [
    "## Split into traning and validation"
   ],
   "metadata": {}
  },
  {
   "cell_type": "code",
   "source": [
    "X_train, X_val, y_train, y_val = train_test_split(X_train, y_train, test_size = 0.1, random_state=random_seed)"
   ],
   "metadata": {
    "execution": {
     "iopub.status.busy": "2024-02-18T02:59:50.546077Z",
     "iopub.execute_input": "2024-02-18T02:59:50.546841Z",
     "iopub.status.idle": "2024-02-18T02:59:50.964873Z",
     "shell.execute_reply.started": "2024-02-18T02:59:50.546812Z",
     "shell.execute_reply": "2024-02-18T02:59:50.964025Z"
    },
    "trusted": true,
    "ExecuteTime": {
     "end_time": "2024-02-18T03:22:14.059442Z",
     "start_time": "2024-02-18T03:22:13.852746Z"
    }
   },
   "execution_count": 12,
   "outputs": []
  },
  {
   "cell_type": "markdown",
   "source": [
    "## Image example"
   ],
   "metadata": {}
  },
  {
   "cell_type": "code",
   "source": [
    "g = plt.imshow(X_train[0][:,:,0])"
   ],
   "metadata": {
    "execution": {
     "iopub.status.busy": "2024-02-18T02:59:50.966379Z",
     "iopub.execute_input": "2024-02-18T02:59:50.967409Z",
     "iopub.status.idle": "2024-02-18T02:59:51.166151Z",
     "shell.execute_reply.started": "2024-02-18T02:59:50.967378Z",
     "shell.execute_reply": "2024-02-18T02:59:51.165147Z"
    },
    "trusted": true,
    "ExecuteTime": {
     "end_time": "2024-02-18T03:22:14.164791Z",
     "start_time": "2024-02-18T03:22:14.060152Z"
    }
   },
   "execution_count": 13,
   "outputs": [
    {
     "data": {
      "text/plain": "<Figure size 640x480 with 1 Axes>",
      "image/png": "[encoded data removed]"
     },
     "metadata": {},
     "output_type": "display_data"
    }
   ]
  },
  {
   "cell_type": "markdown",
   "source": [
    "## Create a model"
   ],
   "metadata": {}
  },
  {
   "cell_type": "code",
   "source": [
    "model = Sequential()\n",
    "\n",
    "model.add(Conv2D(filters = 32, kernel_size = (5,5),padding = 'Same', \n",
    "                 activation ='relu', input_shape = (28,28,1)))\n",
    "model.add(Conv2D(filters = 32, kernel_size = (5,5),padding = 'Same', \n",
    "                 activation ='relu'))\n",
    "model.add(MaxPool2D(pool_size=(2,2)))\n",
    "model.add(Dropout(0.25))\n",
    "\n",
    "\n",
    "model.add(Conv2D(filters = 64, kernel_size = (3,3),padding = 'Same', \n",
    "                 activation ='relu'))\n",
    "model.add(Conv2D(filters = 64, kernel_size = (3,3),padding = 'Same', \n",
    "                 activation ='relu'))\n",
    "model.add(MaxPool2D(pool_size=(2,2), strides=(2,2)))\n",
    "model.add(Dropout(0.25))\n",
    "\n",
    "\n",
    "model.add(Flatten())\n",
    "model.add(Dense(256, activation = \"relu\"))\n",
    "model.add(Dropout(0.5))\n",
    "model.add(Dense(10, activation = \"softmax\"))"
   ],
   "metadata": {
    "execution": {
     "iopub.status.busy": "2024-02-18T02:59:51.167842Z",
     "iopub.execute_input": "2024-02-18T02:59:51.169763Z",
     "iopub.status.idle": "2024-02-18T02:59:51.324136Z",
     "shell.execute_reply.started": "2024-02-18T02:59:51.169715Z",
     "shell.execute_reply": "2024-02-18T02:59:51.322418Z"
    },
    "trusted": true,
    "ExecuteTime": {
     "end_time": "2024-02-18T03:22:14.232782Z",
     "start_time": "2024-02-18T03:22:14.167760Z"
    }
   },
   "execution_count": 14,
   "outputs": []
  },
  {
   "cell_type": "markdown",
   "source": [
    "## Optimizer"
   ],
   "metadata": {}
  },
  {
   "cell_type": "code",
   "source": [
    "optimizer=RMSprop(lr=0.001)"
   ],
   "metadata": {
    "execution": {
     "iopub.status.busy": "2024-02-18T02:59:51.325633Z",
     "iopub.execute_input": "2024-02-18T02:59:51.326047Z",
     "iopub.status.idle": "2024-02-18T02:59:51.335010Z",
     "shell.execute_reply.started": "2024-02-18T02:59:51.326006Z",
     "shell.execute_reply": "2024-02-18T02:59:51.333762Z"
    },
    "trusted": true,
    "ExecuteTime": {
     "end_time": "2024-02-18T03:22:14.234189Z",
     "start_time": "2024-02-18T03:22:14.229435Z"
    }
   },
   "execution_count": 15,
   "outputs": [
    {
     "name": "stderr",
     "output_type": "stream",
     "text": [
      "/Users/monkey/miniconda3/envs/kaggle-solutions/lib/python3.11/site-packages/keras/optimizers/legacy/rmsprop.py:143: UserWarning: The `lr` argument is deprecated, use `learning_rate` instead.\n",
      "  super().__init__(name, **kwargs)\n"
     ]
    }
   ]
  },
  {
   "cell_type": "code",
   "source": [
    "model.compile(optimizer=optimizer, loss='categorical_crossentropy', metrics=['accuracy']) "
   ],
   "metadata": {
    "execution": {
     "iopub.status.busy": "2024-02-18T02:59:51.336288Z",
     "iopub.execute_input": "2024-02-18T02:59:51.336610Z",
     "iopub.status.idle": "2024-02-18T02:59:51.350094Z",
     "shell.execute_reply.started": "2024-02-18T02:59:51.336584Z",
     "shell.execute_reply": "2024-02-18T02:59:51.349159Z"
    },
    "trusted": true,
    "ExecuteTime": {
     "end_time": "2024-02-18T03:22:14.241411Z",
     "start_time": "2024-02-18T03:22:14.234937Z"
    }
   },
   "execution_count": 16,
   "outputs": []
  },
  {
   "cell_type": "markdown",
   "source": [
    "## Annealer"
   ],
   "metadata": {}
  },
  {
   "cell_type": "code",
   "source": [
    "learning_rate_reduction = ReduceLROnPlateau(monitor='val_accuracy', \n",
    "                                            patience=3, \n",
    "                                            verbose=1, \n",
    "                                            factor=0.5, \n",
    "                                            min_lr=0.00001)"
   ],
   "metadata": {
    "execution": {
     "iopub.status.busy": "2024-02-18T02:59:51.351245Z",
     "iopub.execute_input": "2024-02-18T02:59:51.351521Z",
     "iopub.status.idle": "2024-02-18T02:59:51.357536Z",
     "shell.execute_reply.started": "2024-02-18T02:59:51.351498Z",
     "shell.execute_reply": "2024-02-18T02:59:51.356727Z"
    },
    "trusted": true,
    "ExecuteTime": {
     "end_time": "2024-02-18T03:22:14.242640Z",
     "start_time": "2024-02-18T03:22:14.239922Z"
    }
   },
   "execution_count": 17,
   "outputs": []
  },
  {
   "cell_type": "markdown",
   "source": [
    "## Epochs "
   ],
   "metadata": {}
  },
  {
   "cell_type": "code",
   "source": [
    "epochs = 5\n",
    "batch_size = 86"
   ],
   "metadata": {
    "execution": {
     "iopub.status.busy": "2024-02-18T02:59:51.358789Z",
     "iopub.execute_input": "2024-02-18T02:59:51.359166Z",
     "iopub.status.idle": "2024-02-18T02:59:51.369998Z",
     "shell.execute_reply.started": "2024-02-18T02:59:51.359129Z",
     "shell.execute_reply": "2024-02-18T02:59:51.369019Z"
    },
    "trusted": true,
    "ExecuteTime": {
     "end_time": "2024-02-18T03:22:14.244545Z",
     "start_time": "2024-02-18T03:22:14.242036Z"
    }
   },
   "execution_count": 18,
   "outputs": []
  },
  {
   "cell_type": "markdown",
   "source": [
    "## Augment data"
   ],
   "metadata": {}
  },
  {
   "cell_type": "code",
   "source": [
    "datagen = ImageDataGenerator(\n",
    "    featurewise_center=False,\n",
    "    samplewise_center=False,\n",
    "    featurewise_std_normalization=False,\n",
    "    samplewise_std_normalization=False,\n",
    "    zca_whitening=False,\n",
    "    rotation_range=10,\n",
    "    zoom_range = 0.1,\n",
    "    width_shift_range=0.1,\n",
    "    height_shift_range=0.1,\n",
    "    horizontal_flip=False,\n",
    "    vertical_flip=False\n",
    ")"
   ],
   "metadata": {
    "execution": {
     "iopub.status.busy": "2024-02-18T02:59:51.371342Z",
     "iopub.execute_input": "2024-02-18T02:59:51.371637Z",
     "iopub.status.idle": "2024-02-18T02:59:51.379369Z",
     "shell.execute_reply.started": "2024-02-18T02:59:51.371610Z",
     "shell.execute_reply": "2024-02-18T02:59:51.378395Z"
    },
    "trusted": true,
    "ExecuteTime": {
     "end_time": "2024-02-18T03:22:14.246840Z",
     "start_time": "2024-02-18T03:22:14.244932Z"
    }
   },
   "execution_count": 19,
   "outputs": []
  },
  {
   "cell_type": "markdown",
   "source": [
    "## Train the model"
   ],
   "metadata": {}
  },
  {
   "cell_type": "code",
   "source": [
    "datagen.fit(X_train)"
   ],
   "metadata": {
    "execution": {
     "iopub.status.busy": "2024-02-18T02:59:51.380517Z",
     "iopub.execute_input": "2024-02-18T02:59:51.380854Z",
     "iopub.status.idle": "2024-02-18T02:59:51.485210Z",
     "shell.execute_reply.started": "2024-02-18T02:59:51.380826Z",
     "shell.execute_reply": "2024-02-18T02:59:51.484084Z"
    },
    "trusted": true,
    "ExecuteTime": {
     "end_time": "2024-02-18T03:22:14.308688Z",
     "start_time": "2024-02-18T03:22:14.247318Z"
    }
   },
   "execution_count": 20,
   "outputs": []
  },
  {
   "cell_type": "code",
   "source": [
    "history = model.fit(\n",
    "    datagen.flow(X_train, y_train, batch_size=batch_size),\n",
    "    epochs = epochs, \n",
    "    validation_data = (X_val,y_val),\n",
    "    verbose = 2, \n",
    "    steps_per_epoch=X_train.shape[0] // batch_size,\n",
    "    callbacks=[learning_rate_reduction]\n",
    ")"
   ],
   "metadata": {
    "execution": {
     "iopub.status.busy": "2024-02-18T02:59:51.486739Z",
     "iopub.execute_input": "2024-02-18T02:59:51.487065Z",
     "iopub.status.idle": "2024-02-18T03:11:08.508094Z",
     "shell.execute_reply.started": "2024-02-18T02:59:51.487037Z",
     "shell.execute_reply": "2024-02-18T03:11:08.506863Z"
    },
    "trusted": true,
    "ExecuteTime": {
     "end_time": "2024-02-18T03:24:49.845834Z",
     "start_time": "2024-02-18T03:22:14.305386Z"
    }
   },
   "execution_count": 21,
   "outputs": [
    {
     "name": "stderr",
     "output_type": "stream",
     "text": [
      "2024-02-18 04:22:14.422434: I tensorflow/core/common_runtime/executor.cc:1197] [/device:CPU:0] (DEBUG INFO) Executor start aborting (this does not indicate an error and you can ignore this message): INVALID_ARGUMENT: You must feed a value for placeholder tensor 'Placeholder/_0' with dtype int32\n",
      "\t [[{{node Placeholder/_0}}]]\n",
      "2024-02-18 04:22:14.428898: W tensorflow/tsl/platform/profile_utils/cpu_utils.cc:128] Failed to get CPU frequency: 0 Hz\n"
     ]
    },
    {
     "name": "stdout",
     "output_type": "stream",
     "text": [
      "Epoch 1/5\n",
      "439/439 - 32s - loss: 0.4189 - accuracy: 0.8659 - val_loss: 0.0603 - val_accuracy: 0.9817 - lr: 0.0010 - 32s/epoch - 73ms/step\n",
      "Epoch 2/5\n",
      "439/439 - 30s - loss: 0.1264 - accuracy: 0.9621 - val_loss: 0.0355 - val_accuracy: 0.9900 - lr: 0.0010 - 30s/epoch - 68ms/step\n",
      "Epoch 3/5\n",
      "439/439 - 30s - loss: 0.1002 - accuracy: 0.9705 - val_loss: 0.0324 - val_accuracy: 0.9890 - lr: 0.0010 - 30s/epoch - 69ms/step\n",
      "Epoch 4/5\n",
      "439/439 - 31s - loss: 0.0779 - accuracy: 0.9780 - val_loss: 0.0843 - val_accuracy: 0.9743 - lr: 0.0010 - 31s/epoch - 71ms/step\n",
      "Epoch 5/5\n",
      "439/439 - 32s - loss: 0.0738 - accuracy: 0.9787 - val_loss: 0.0259 - val_accuracy: 0.9921 - lr: 0.0010 - 32s/epoch - 73ms/step\n"
     ]
    }
   ]
  },
  {
   "cell_type": "markdown",
   "source": [
    "## Evaluate the model"
   ],
   "metadata": {}
  },
  {
   "cell_type": "code",
   "source": [
    "fig, ax = plt.subplots(2, 1)\n",
    "ax[0].plot(history.history['loss'], color='b', label=\"Training loss\")\n",
    "ax[0].plot(history.history['val_loss'], color='r', label=\"Validation loss\")\n",
    "ax[0].legend(loc='best')\n",
    "\n",
    "ax[1].plot(history.history['accuracy'], color='b', label=\"Training accuracy\")\n",
    "ax[1].plot(history.history['val_accuracy'], color='r', label=\"Validation accuracy\")\n",
    "ax[1].legend(loc='best')\n",
    "\n",
    "plt.show()"
   ],
   "metadata": {
    "execution": {
     "iopub.status.busy": "2024-02-18T03:11:08.509911Z",
     "iopub.execute_input": "2024-02-18T03:11:08.510373Z",
     "iopub.status.idle": "2024-02-18T03:11:08.880120Z",
     "shell.execute_reply.started": "2024-02-18T03:11:08.510332Z",
     "shell.execute_reply": "2024-02-18T03:11:08.878900Z"
    },
    "trusted": true,
    "ExecuteTime": {
     "end_time": "2024-02-18T03:24:49.948145Z",
     "start_time": "2024-02-18T03:24:49.854599Z"
    }
   },
   "execution_count": 22,
   "outputs": [
    {
     "data": {
      "text/plain": "<Figure size 640x480 with 2 Axes>",
      "image/png": "[encoded data removed]"
     },
     "metadata": {},
     "output_type": "display_data"
    }
   ]
  },
  {
   "cell_type": "code",
   "source": [
    "history.history['loss']"
   ],
   "metadata": {
    "execution": {
     "iopub.status.busy": "2024-02-18T03:11:08.882519Z",
     "iopub.execute_input": "2024-02-18T03:11:08.883362Z",
     "iopub.status.idle": "2024-02-18T03:11:08.889493Z",
     "shell.execute_reply.started": "2024-02-18T03:11:08.883328Z",
     "shell.execute_reply": "2024-02-18T03:11:08.888471Z"
    },
    "trusted": true,
    "ExecuteTime": {
     "end_time": "2024-02-18T03:24:49.951182Z",
     "start_time": "2024-02-18T03:24:49.948835Z"
    }
   },
   "execution_count": 23,
   "outputs": [
    {
     "data": {
      "text/plain": "[0.41889774799346924,\n 0.12643732130527496,\n 0.10017378628253937,\n 0.07792840898036957,\n 0.0738404169678688]"
     },
     "execution_count": 23,
     "metadata": {},
     "output_type": "execute_result"
    }
   ]
  },
  {
   "cell_type": "markdown",
   "source": [
    "## Predict the result "
   ],
   "metadata": {}
  },
  {
   "cell_type": "code",
   "source": [
    "results = model.predict(test)"
   ],
   "metadata": {
    "execution": {
     "iopub.status.busy": "2024-02-18T03:11:08.890755Z",
     "iopub.execute_input": "2024-02-18T03:11:08.891106Z",
     "iopub.status.idle": "2024-02-18T03:11:30.026551Z",
     "shell.execute_reply.started": "2024-02-18T03:11:08.891076Z",
     "shell.execute_reply": "2024-02-18T03:11:30.025095Z"
    },
    "trusted": true,
    "ExecuteTime": {
     "end_time": "2024-02-18T03:24:59.469370Z",
     "start_time": "2024-02-18T03:24:49.951891Z"
    }
   },
   "execution_count": 24,
   "outputs": [
    {
     "name": "stdout",
     "output_type": "stream",
     "text": [
      "875/875 [==============================] - 9s 11ms/step\n"
     ]
    }
   ]
  },
  {
   "cell_type": "code",
   "source": [
    "results = np.argmax(results,axis = 1)\n",
    "\n",
    "results = pd.Series(results,name=\"Label\")"
   ],
   "metadata": {
    "execution": {
     "iopub.status.busy": "2024-02-18T03:11:30.028274Z",
     "iopub.execute_input": "2024-02-18T03:11:30.028622Z",
     "iopub.status.idle": "2024-02-18T03:11:30.034601Z",
     "shell.execute_reply.started": "2024-02-18T03:11:30.028590Z",
     "shell.execute_reply": "2024-02-18T03:11:30.033406Z"
    },
    "trusted": true,
    "ExecuteTime": {
     "end_time": "2024-02-18T03:24:59.477711Z",
     "start_time": "2024-02-18T03:24:59.470141Z"
    }
   },
   "execution_count": 25,
   "outputs": []
  },
  {
   "cell_type": "code",
   "source": [
    "submission = pd.concat([pd.Series(range(1,28001),name = \"ImageId\"), results], axis = 1)\n",
    "\n",
    "submission.to_csv(\"./result/cnn_mnist_datagen.csv\",index=False)"
   ],
   "metadata": {
    "execution": {
     "iopub.status.busy": "2024-02-18T03:11:30.035810Z",
     "iopub.execute_input": "2024-02-18T03:11:30.036496Z",
     "iopub.status.idle": "2024-02-18T03:11:30.068856Z",
     "shell.execute_reply.started": "2024-02-18T03:11:30.036469Z",
     "shell.execute_reply": "2024-02-18T03:11:30.067731Z"
    },
    "trusted": true,
    "ExecuteTime": {
     "end_time": "2024-02-18T03:24:59.496717Z",
     "start_time": "2024-02-18T03:24:59.474526Z"
    }
   },
   "execution_count": 26,
   "outputs": []
  }
 ]
}
